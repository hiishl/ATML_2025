{
 "cells": [
  {
   "cell_type": "markdown",
   "metadata": {
    "ExecuteTime": {
     "end_time": "2021-02-15T15:30:58.618345Z",
     "start_time": "2021-02-15T15:30:58.610631Z"
    }
   },
   "source": [
    "# Introduction to Python"
   ]
  },
  {
   "attachments": {},
   "cell_type": "markdown",
   "metadata": {},
   "source": [
    "This notebook aims at giving you a first glimpse at Python's syntax and its possibilities. This versatile language is widely used, not only for Machine Learning and Data Science in general, but for many other applications, both in the industry and academia, and will be very useful for your career.\n",
    "\n",
    "A more in-depth introduction to base Python is given in a parallel class. In this notebook, we will quickly recall the important python data types that you will certainly come across, as well as the syntax for the basic programing principles (loops, conditions, functions, classes). The other notebook available on moodle (`Introduction_to_python_modules.ipynb`) will go a bit more in depth with the essential Python modules (libraries), that you will need for this course (and for almost any Data Science project).\n",
    "\n",
    "Depending on your personal programming background and skills, learning a new programming language can be a lot of new information at once. Feel free to go through these notebooks at your own pace and multiple times to really understand the concepts shown here through examples that you can run, modify, and play a bit with.\n",
    "\n",
    "If you need further explanations about programming in Python, we can, for example, recommend:\n",
    "- https://openclassrooms.com/en/courses/2304731-learn-python-basics-for-data-analysis for Python beginners,\n",
    "- https://jakevdp.github.io/PythonDataScienceHandbook/ a very good book teaching Numpy, Pandas, Matplotlib,\n",
    "- https://www.youtube.com/playlist?list=PL-osiE80TeTsqhIuOqKhwlXsIBIdSeYtc an introduction to object oriented programming (OOP). Note that this goes beyond the level expected for the course.\n",
    "\n",
    "Search engines are also a very useful tool when you are stuck. The Python community is *very* active, you will, in most cases, find a rapid answer to your \"*how to ...*\" questions!\n",
    "Discussing with other students is also highly encouraged, to help each other out and learn in groups (as long as you don't share your final answers for graded materal). And of course, don't hesitate to ask your questions to the TAs when you are stuck."
   ]
  },
  {
   "cell_type": "markdown",
   "metadata": {},
   "source": [
    "## A word on IPython Jupyter notebooks"
   ]
  },
  {
   "attachments": {},
   "cell_type": "markdown",
   "metadata": {},
   "source": [
    "In the Anaconda environment, Python code can be run in different manners. One could use simple `*.py` scripts, that can be edited, for example with the Spyder software (also provided in Anaconda), similarly to `*.R` sripts edited with RStudio.\n",
    "\n",
    "Another way is to use `*.ipynb` notebooks (as the one you are looking at), which come in handy for data analysis tasks for example, as you can structure and present your projects nicely with comments and written analysis between code cells.\n",
    "\n",
    "In notebooks, both code and markdowns can be run and rendered successively with `Shift` + `Enter`. You can switch a cell from code to markdown by pressing `Esc` and then `M`, or with the menu above. Double click on a rendered markdown (this one, or the title above for example) to edit it.\n",
    "\n",
    "Jupyter notbooks are a WYSIWYG (What You See Is What You Get) environment. It is possible for example to use **bold**, *italic*, and `verbatim`.\n",
    "\n",
    "    This is also some verbatim code.\n",
    "    $ echo \"hi\"\n",
    "\n",
    "- This is a list,\n",
    "- with two entries...\n",
    "\n",
    "1. and this an enumerated one,\n",
    "1. with two entries as well.\n",
    "\n",
    "LaTeX code is also possible: $E=mc^2$,\n",
    "$$\n",
    "\\int_{-\\infty}^\\infty f(t) e^{-i\\omega t} dt.\n",
    "$$\n",
    "\n",
    "Feel free to spend some time getting familiar with the environment and to play a bit with the menu above to learn how to create, move, delete cells, and anything else that you would need."
   ]
  },
  {
   "cell_type": "markdown",
   "metadata": {},
   "source": [
    "## Basic data types"
   ]
  },
  {
   "cell_type": "markdown",
   "metadata": {},
   "source": [
    "### Numbers, text and booleans"
   ]
  },
  {
   "cell_type": "markdown",
   "metadata": {},
   "source": [
    "The syntax for the most basic types and for variable attribution is similar to a lot of other (interpreted, non-typed) programming languages you may be familiar with. Here are some examples:"
   ]
  },
  {
   "cell_type": "code",
   "execution_count": null,
   "metadata": {
    "ExecuteTime": {
     "end_time": "2022-02-23T16:29:42.611761Z",
     "start_time": "2022-02-23T16:29:42.595808Z"
    }
   },
   "outputs": [],
   "source": [
    "some_integer = 2\n",
    "some_integer # (the last called object in the cell is shown in \"Out\")"
   ]
  },
  {
   "cell_type": "code",
   "execution_count": null,
   "metadata": {
    "ExecuteTime": {
     "end_time": "2022-02-23T16:29:43.290838Z",
     "start_time": "2022-02-23T16:29:43.280896Z"
    }
   },
   "outputs": [],
   "source": [
    "# Other examples printed with the \"print\" function\n",
    "print(\"integers:\", 4)\n",
    "print(\"floats:\", 12.46, 1.3e4)\n",
    "print(\"strings:\", \"Hello World!\")\n",
    "print(\"Complex numbers:\", 4 + 3j)"
   ]
  },
  {
   "cell_type": "code",
   "execution_count": null,
   "metadata": {
    "ExecuteTime": {
     "end_time": "2022-02-23T16:29:44.137248Z",
     "start_time": "2022-02-23T16:29:44.128005Z"
    }
   },
   "outputs": [],
   "source": [
    "print(\"booleans:\", True, False)\n",
    "print(\"booleans:\", (1 > 2 or 4 >= 3) )"
   ]
  },
  {
   "cell_type": "code",
   "execution_count": null,
   "metadata": {
    "ExecuteTime": {
     "end_time": "2022-02-23T16:29:44.827772Z",
     "start_time": "2022-02-23T16:29:44.816827Z"
    }
   },
   "outputs": [],
   "source": [
    "a=2\n",
    "print(\"Type of 'a' is:\")\n",
    "type(a)"
   ]
  },
  {
   "cell_type": "code",
   "execution_count": null,
   "metadata": {
    "ExecuteTime": {
     "end_time": "2022-02-23T16:29:45.349562Z",
     "start_time": "2022-02-23T16:29:45.344556Z"
    }
   },
   "outputs": [],
   "source": [
    "example_string = \"Hello\"\n",
    "print(\"First Letter of\", example_string, \"is\", example_string[0]) # Note that indexing starts at 0 in Python\n",
    "print(\"Last Letter of\", example_string, \"is\", example_string[-1]) # [-1] Accesses the last element of an ennumerable object\n",
    "# example_string[0] = 'B' # This does not work! Strings are \"immutable\""
   ]
  },
  {
   "cell_type": "code",
   "execution_count": null,
   "metadata": {
    "ExecuteTime": {
     "end_time": "2022-02-23T16:29:45.816614Z",
     "start_time": "2022-02-23T16:29:45.806639Z"
    }
   },
   "outputs": [],
   "source": [
    "combined_string = example_string + \" everyone\"\n",
    "combined_string"
   ]
  },
  {
   "cell_type": "markdown",
   "metadata": {},
   "source": [
    "### Data Containers"
   ]
  },
  {
   "attachments": {},
   "cell_type": "markdown",
   "metadata": {},
   "source": [
    "For sequences, the most used base type are lists..."
   ]
  },
  {
   "cell_type": "code",
   "execution_count": null,
   "metadata": {
    "ExecuteTime": {
     "end_time": "2022-02-23T16:29:47.260653Z",
     "start_time": "2022-02-23T16:29:47.250692Z"
    }
   },
   "outputs": [],
   "source": [
    "my_list = [2, 6, 4, 432, 36]\n",
    "my_list"
   ]
  },
  {
   "cell_type": "code",
   "execution_count": null,
   "metadata": {
    "ExecuteTime": {
     "end_time": "2022-02-23T16:29:47.736074Z",
     "start_time": "2022-02-23T16:29:47.726101Z"
    }
   },
   "outputs": [],
   "source": [
    "my_list[1:4]  #careful: 1:4 returns the values indexed at 1, 2 and 3 but NOT at 4"
   ]
  },
  {
   "cell_type": "code",
   "execution_count": null,
   "metadata": {
    "ExecuteTime": {
     "end_time": "2022-02-23T16:29:48.153818Z",
     "start_time": "2022-02-23T16:29:48.145538Z"
    }
   },
   "outputs": [],
   "source": [
    "my_list + [12] # This creates a new list, with 12 in the end"
   ]
  },
  {
   "cell_type": "code",
   "execution_count": null,
   "metadata": {},
   "outputs": [],
   "source": [
    "my_list.append(13) # This appends 13 to the list (\"in place\")\n",
    "my_list"
   ]
  },
  {
   "cell_type": "code",
   "execution_count": null,
   "metadata": {
    "ExecuteTime": {
     "end_time": "2022-02-23T16:29:48.614603Z",
     "start_time": "2022-02-23T16:29:48.608617Z"
    }
   },
   "outputs": [],
   "source": [
    "[2, 4, \"sd\", True, [\"inner\",\"list\"]] # lists can contain different subtypes, even other lists"
   ]
  },
  {
   "attachments": {},
   "cell_type": "markdown",
   "metadata": {},
   "source": [
    "...and tuples (often returned by functions, as shown a bit below in the next sections) which are the \"immutable\" version of lists:"
   ]
  },
  {
   "cell_type": "code",
   "execution_count": null,
   "metadata": {
    "ExecuteTime": {
     "end_time": "2022-02-23T16:29:49.709110Z",
     "start_time": "2022-02-23T16:29:49.698140Z"
    }
   },
   "outputs": [],
   "source": [
    "my_tuple = (2, 56, 3)\n",
    "my_tuple"
   ]
  },
  {
   "cell_type": "code",
   "execution_count": null,
   "metadata": {
    "ExecuteTime": {
     "end_time": "2022-02-23T16:29:50.250720Z",
     "start_time": "2022-02-23T16:29:50.240756Z"
    }
   },
   "outputs": [],
   "source": [
    "not_a_tuple = (4)\n",
    "my_1D_tuple = (4,)\n",
    "my_1D_tuple"
   ]
  },
  {
   "cell_type": "markdown",
   "metadata": {},
   "source": [
    "There are also sets (any value can appear only once):"
   ]
  },
  {
   "cell_type": "code",
   "execution_count": null,
   "metadata": {
    "ExecuteTime": {
     "end_time": "2022-02-23T16:29:51.290630Z",
     "start_time": "2022-02-23T16:29:51.280676Z"
    }
   },
   "outputs": [],
   "source": [
    "my_set = {12, \"w\", 12}\n",
    "my_set"
   ]
  },
  {
   "cell_type": "markdown",
   "metadata": {},
   "source": [
    "and dictionaries, that can be seen as named lists:"
   ]
  },
  {
   "cell_type": "code",
   "execution_count": null,
   "metadata": {
    "ExecuteTime": {
     "end_time": "2022-02-23T16:29:52.871584Z",
     "start_time": "2022-02-23T16:29:52.861604Z"
    }
   },
   "outputs": [],
   "source": [
    "my_dict = {\n",
    "    \"name\": \"Sophie\",\n",
    "    \"Age\": 23,\n",
    "    \"Passions\": [\"Tennis\", \"Machine Learning\"]\n",
    "}\n",
    "my_dict"
   ]
  },
  {
   "cell_type": "code",
   "execution_count": null,
   "metadata": {
    "ExecuteTime": {
     "end_time": "2022-02-23T16:29:53.350746Z",
     "start_time": "2022-02-23T16:29:53.344752Z"
    }
   },
   "outputs": [],
   "source": [
    "my_dict[\"Age\"]"
   ]
  },
  {
   "cell_type": "code",
   "execution_count": null,
   "metadata": {},
   "outputs": [],
   "source": [
    "# Side note: any immutable types can be dict-keys\n",
    "my_weird_dict = {\n",
    "    \"name\": \"strings\",\n",
    "    True: \"booleans\",\n",
    "    1: \"...but treated as 0/1\",\n",
    "    -3: \"integers\",\n",
    "    2.5: \"floats\",\n",
    "    1+1j: \"complex numbers\",\n",
    "    (1, 2): \"tuples\"\n",
    "}\n",
    "my_weird_dict"
   ]
  },
  {
   "cell_type": "markdown",
   "metadata": {},
   "source": [
    "## Programming principles"
   ]
  },
  {
   "attachments": {},
   "cell_type": "markdown",
   "metadata": {},
   "source": [
    "In Python, loops, conditions, and function definitions use colons (`:`) and indentation instead of curly braces, which are used in many other languages (like R)."
   ]
  },
  {
   "cell_type": "markdown",
   "metadata": {},
   "source": [
    "### Loops"
   ]
  },
  {
   "cell_type": "markdown",
   "metadata": {},
   "source": [
    "Here are some useful examples of some for loops:"
   ]
  },
  {
   "cell_type": "code",
   "execution_count": null,
   "metadata": {
    "ExecuteTime": {
     "end_time": "2022-02-23T16:29:55.128691Z",
     "start_time": "2022-02-23T16:29:55.117729Z"
    }
   },
   "outputs": [],
   "source": [
    "# Ranges start at 0 by default\n",
    "for i in range(4):\n",
    "    temp = i*2\n",
    "    print(i, \"* 2 =\", temp)"
   ]
  },
  {
   "cell_type": "code",
   "execution_count": null,
   "metadata": {},
   "outputs": [],
   "source": [
    "# Start, stop, and step-size can be specified\n",
    "for j in range(10, 1, -3):\n",
    "    print(j)\n"
   ]
  },
  {
   "cell_type": "code",
   "execution_count": null,
   "metadata": {
    "ExecuteTime": {
     "end_time": "2022-02-23T16:29:55.466817Z",
     "start_time": "2022-02-23T16:29:55.456842Z"
    }
   },
   "outputs": [],
   "source": [
    "# Note that the scope of variable transcends loops in Python,\n",
    "# e.g., we can access the enumeration index and variables defined inside of the loop, outside of it:\n",
    "print(i, temp)"
   ]
  },
  {
   "cell_type": "code",
   "execution_count": null,
   "metadata": {
    "ExecuteTime": {
     "end_time": "2022-02-23T16:29:55.813846Z",
     "start_time": "2022-02-23T16:29:55.808889Z"
    }
   },
   "outputs": [],
   "source": [
    "list_to_enumerate_on = [\"a\", \"b\", \"c\"]\n",
    "\n",
    "for el in list_to_enumerate_on:\n",
    "    print(el)\n",
    "\n",
    "for i, el in enumerate(list_to_enumerate_on):\n",
    "    print(i, \"-\", el)"
   ]
  },
  {
   "cell_type": "code",
   "execution_count": null,
   "metadata": {
    "ExecuteTime": {
     "end_time": "2022-02-23T16:29:56.201018Z",
     "start_time": "2022-02-23T16:29:56.190046Z"
    }
   },
   "outputs": [],
   "source": [
    "# while loops are useful, if you don't know the number of necessary iterations\n",
    "x = 20\n",
    "while(x > 0.1):\n",
    "    x = x / 2\n",
    "    print(x)"
   ]
  },
  {
   "attachments": {},
   "cell_type": "markdown",
   "metadata": {},
   "source": [
    "In some cases, simple `for` loops can be written using \"list comprehension\", which can come in pretty handy sometimes. Here is an example:"
   ]
  },
  {
   "cell_type": "code",
   "execution_count": null,
   "metadata": {
    "ExecuteTime": {
     "end_time": "2022-02-23T16:29:56.947284Z",
     "start_time": "2022-02-23T16:29:56.941307Z"
    }
   },
   "outputs": [],
   "source": [
    "my_list = [2, 6, 4]\n",
    "twice_my_list = [i * 2 for i in my_list]\n",
    "twice_my_list"
   ]
  },
  {
   "cell_type": "code",
   "execution_count": null,
   "metadata": {},
   "outputs": [],
   "source": [
    "## Warning: what does the following line produce?\n",
    "# my_list * 2"
   ]
  },
  {
   "cell_type": "markdown",
   "metadata": {},
   "source": [
    "### Conditions"
   ]
  },
  {
   "attachments": {},
   "cell_type": "markdown",
   "metadata": {},
   "source": [
    "`If... else` conditions are pretty straight forward:"
   ]
  },
  {
   "cell_type": "code",
   "execution_count": null,
   "metadata": {
    "ExecuteTime": {
     "end_time": "2022-02-23T16:29:58.061492Z",
     "start_time": "2022-02-23T16:29:58.049525Z"
    }
   },
   "outputs": [],
   "source": [
    "cond = 4 > 35\n",
    "\n",
    "if cond:\n",
    "    print(\"4 is greater than 35\")\n",
    "else:\n",
    "    print(\"4 is NOT greater than 35\")\n",
    "        "
   ]
  },
  {
   "cell_type": "code",
   "execution_count": null,
   "metadata": {
    "ExecuteTime": {
     "end_time": "2022-02-23T16:29:58.377996Z",
     "start_time": "2022-02-23T16:29:58.368056Z"
    }
   },
   "outputs": [],
   "source": [
    "a = 4\n",
    "b = 35\n",
    "if a > b:\n",
    "    print(\"a is greater than b\")\n",
    "    \n",
    "elif a == b:\n",
    "    print(\"a equals b\")\n",
    "        \n",
    "else:\n",
    "    print(\"b is greater than a\")"
   ]
  },
  {
   "attachments": {},
   "cell_type": "markdown",
   "metadata": {},
   "source": [
    "Conditions can also be added to list comprehensions. Here is a modification of the example above:"
   ]
  },
  {
   "cell_type": "code",
   "execution_count": null,
   "metadata": {
    "ExecuteTime": {
     "end_time": "2022-02-23T16:29:59.544914Z",
     "start_time": "2022-02-23T16:29:59.533926Z"
    }
   },
   "outputs": [],
   "source": [
    "my_list = [2, 6, 4]\n",
    "twice_my_list = [i * 2 for i in my_list if i <= 5]\n",
    "twice_my_small_list = [i * 2 if (i <= 5) else \"too large\" for i in my_list]\n",
    "twice_my_small_list"
   ]
  },
  {
   "cell_type": "markdown",
   "metadata": {},
   "source": [
    "### User defined functions"
   ]
  },
  {
   "attachments": {},
   "cell_type": "markdown",
   "metadata": {},
   "source": [
    "Functions are very useful for modularity and code clarity. Especially if a task is repeated more than once, a function is always better than repeating code!"
   ]
  },
  {
   "cell_type": "markdown",
   "metadata": {},
   "source": [
    "One can define a Python function and use it, for example, in the following way:"
   ]
  },
  {
   "cell_type": "code",
   "execution_count": null,
   "metadata": {
    "ExecuteTime": {
     "end_time": "2022-02-23T16:30:00.801793Z",
     "start_time": "2022-02-23T16:30:00.796808Z"
    }
   },
   "outputs": [],
   "source": [
    "def my_function(a, b, c):\n",
    "    \"\"\"\n",
    "    Short description of the function 1.\n",
    "    \"\"\"\n",
    "    result = (a + b) / c\n",
    "    return result"
   ]
  },
  {
   "cell_type": "code",
   "execution_count": null,
   "metadata": {
    "ExecuteTime": {
     "end_time": "2022-02-23T16:30:01.175033Z",
     "start_time": "2022-02-23T16:30:01.164854Z"
    }
   },
   "outputs": [],
   "source": [
    "fct_result = my_function(3, 7, 2)\n",
    "fct_result"
   ]
  },
  {
   "cell_type": "markdown",
   "metadata": {},
   "source": [
    "Multiple outputs are possible (returning tuples):"
   ]
  },
  {
   "cell_type": "code",
   "execution_count": null,
   "metadata": {
    "ExecuteTime": {
     "end_time": "2022-02-23T16:30:02.305426Z",
     "start_time": "2022-02-23T16:30:02.301433Z"
    }
   },
   "outputs": [],
   "source": [
    "def my_multi_function(a, b, c):\n",
    "    \"\"\"\n",
    "    Short description of the function 2.\n",
    "    \"\"\"\n",
    "    result1 = (a + b) / c\n",
    "    result2 = (a - b) / c\n",
    "    \n",
    "    return result1, result2"
   ]
  },
  {
   "cell_type": "code",
   "execution_count": null,
   "metadata": {
    "ExecuteTime": {
     "end_time": "2022-02-23T16:30:02.597259Z",
     "start_time": "2022-02-23T16:30:02.591275Z"
    }
   },
   "outputs": [],
   "source": [
    "fct_result2 = my_multi_function(3, 7, 2)\n",
    "fct_result2"
   ]
  },
  {
   "cell_type": "markdown",
   "metadata": {},
   "source": [
    "The outputs can directly be stored in separate variables:"
   ]
  },
  {
   "cell_type": "code",
   "execution_count": null,
   "metadata": {
    "ExecuteTime": {
     "end_time": "2022-02-23T16:30:03.110584Z",
     "start_time": "2022-02-23T16:30:03.101577Z"
    }
   },
   "outputs": [],
   "source": [
    "res1, res2 = my_multi_function(3, 7, 2)\n",
    "print(res1)\n",
    "print(res2)"
   ]
  },
  {
   "cell_type": "markdown",
   "metadata": {},
   "source": [
    "Separating your code in different meaningful functions is in general very recommended, as it makes your code clearer, cleaner, and helps avoiding copy-pasting (which is a very bad coding practice, as it is very error-prone once something that has been copy-pasted needs modifications)."
   ]
  },
  {
   "cell_type": "markdown",
   "metadata": {},
   "source": [
    "As for lists, functions can be defined in a one-line manner in Python, with `lambda`:"
   ]
  },
  {
   "cell_type": "code",
   "execution_count": null,
   "metadata": {
    "ExecuteTime": {
     "end_time": "2022-02-23T16:30:04.200963Z",
     "start_time": "2022-02-23T16:30:04.190994Z"
    }
   },
   "outputs": [],
   "source": [
    "one_line_fct = lambda x, y: (x+y)**2\n",
    "one_line_fct(2,3)"
   ]
  },
  {
   "cell_type": "markdown",
   "metadata": {},
   "source": [
    "## Python modules (libraries)"
   ]
  },
  {
   "cell_type": "markdown",
   "metadata": {},
   "source": [
    "You can import Python libraries with the `import` command, for example, the numpy module can be imported as follows:"
   ]
  },
  {
   "cell_type": "code",
   "execution_count": null,
   "metadata": {
    "ExecuteTime": {
     "end_time": "2022-02-23T16:30:05.241704Z",
     "start_time": "2022-02-23T16:30:05.232734Z"
    }
   },
   "outputs": [],
   "source": [
    "import numpy"
   ]
  },
  {
   "cell_type": "markdown",
   "metadata": {},
   "source": [
    "Then, the module's variables, functions, classes, ... can be accessed with the dot (.):"
   ]
  },
  {
   "cell_type": "code",
   "execution_count": null,
   "metadata": {
    "ExecuteTime": {
     "end_time": "2022-02-23T16:30:06.014270Z",
     "start_time": "2022-02-23T16:30:06.001318Z"
    }
   },
   "outputs": [],
   "source": [
    "numpy.array([1,2]) # This creates a numpy array (more details in the other notebook on modules)"
   ]
  },
  {
   "cell_type": "markdown",
   "metadata": {},
   "source": [
    "Module imports can be given aliases, for example, numpy is more often imported as:"
   ]
  },
  {
   "cell_type": "code",
   "execution_count": null,
   "metadata": {
    "ExecuteTime": {
     "end_time": "2022-02-23T16:30:06.730367Z",
     "start_time": "2022-02-23T16:30:06.720393Z"
    }
   },
   "outputs": [],
   "source": [
    "import numpy as np"
   ]
  },
  {
   "cell_type": "markdown",
   "metadata": {},
   "source": [
    "Then, for example, the same line as above becomes:"
   ]
  },
  {
   "cell_type": "code",
   "execution_count": null,
   "metadata": {
    "ExecuteTime": {
     "end_time": "2022-02-23T16:30:07.400574Z",
     "start_time": "2022-02-23T16:30:07.390599Z"
    }
   },
   "outputs": [],
   "source": [
    "np.array([1,2,3])"
   ]
  },
  {
   "cell_type": "markdown",
   "metadata": {},
   "source": [
    "another example, with the \"random\" sub-module of numpy:"
   ]
  },
  {
   "cell_type": "code",
   "execution_count": null,
   "metadata": {
    "ExecuteTime": {
     "end_time": "2022-02-23T16:30:08.056147Z",
     "start_time": "2022-02-23T16:30:08.042184Z"
    }
   },
   "outputs": [],
   "source": [
    "np.random.randn(2) #gaussian sample of size 2, from numpy's 'random' submodule"
   ]
  },
  {
   "cell_type": "markdown",
   "metadata": {},
   "source": [
    "One can import only specific function or submodules in the main namespace. For the same examples:"
   ]
  },
  {
   "cell_type": "code",
   "execution_count": null,
   "metadata": {
    "ExecuteTime": {
     "end_time": "2022-02-23T16:30:08.914879Z",
     "start_time": "2022-02-23T16:30:08.910923Z"
    }
   },
   "outputs": [],
   "source": [
    "from numpy import array, random"
   ]
  },
  {
   "cell_type": "code",
   "execution_count": null,
   "metadata": {
    "ExecuteTime": {
     "end_time": "2022-02-23T16:30:09.335637Z",
     "start_time": "2022-02-23T16:30:09.326630Z"
    }
   },
   "outputs": [],
   "source": [
    "array([1, 2])"
   ]
  },
  {
   "cell_type": "code",
   "execution_count": null,
   "metadata": {
    "ExecuteTime": {
     "end_time": "2022-02-23T16:30:09.715984Z",
     "start_time": "2022-02-23T16:30:09.709985Z"
    }
   },
   "outputs": [],
   "source": [
    "random.randn(2)"
   ]
  },
  {
   "cell_type": "markdown",
   "metadata": {},
   "source": [
    "It is also possible to import everything from a module into the main namespace, although it is really not recommended, especially for big modules as numpy, as functions can overlap with existing ones. It is thus better to use each module in their own namespace separately as above (e.g. with `import numpy as np`)."
   ]
  },
  {
   "cell_type": "code",
   "execution_count": null,
   "metadata": {
    "ExecuteTime": {
     "end_time": "2022-02-23T16:30:10.999727Z",
     "start_time": "2022-02-23T16:30:10.990739Z"
    }
   },
   "outputs": [],
   "source": [
    "# !! NOT RECOMMENDED !!\n",
    "\n",
    "#from numpy import *"
   ]
  },
  {
   "cell_type": "markdown",
   "metadata": {},
   "source": [
    "Although this can be useful to import functions from a custom created file. Suppose we have a script containing some functions in the same folder as this notebook, named `my_functions.py` then you can import these functions with:\n",
    "\n",
    "    from my_functions import *"
   ]
  },
  {
   "cell_type": "markdown",
   "metadata": {},
   "source": [
    "The notebook `Introduction_to_python_modules.ipynb` available on moodle introduces some important Python modules that are widely used for many (if not all) data-related applications: `numpy`, `pandas`, `matplotlib` and `scikit-learn`."
   ]
  },
  {
   "cell_type": "markdown",
   "metadata": {},
   "source": [
    "## Introduction to object-oriented programming"
   ]
  },
  {
   "cell_type": "markdown",
   "metadata": {},
   "source": [
    "Python is an object-oriented language. OOP is a very powerful coding paradigm that is widely used in many languages. It helps structuring the code around objects, and makes, arguably, the code much cleaner and clearer to read and conceptualize. It also makes it easier to model concrete real-world concepts into code. Many Python modules are centered around this principle.\n",
    "\n",
    "Formally, in OOP, we can define what we call **classes**. A class is like a blueprint that describes an object. Such an object can have (among other things):\n",
    "- properties (that we call **attributes**) which are inner variables of the objects, containing data, and\n",
    "- behaviours (that we call **methods**) that are inner functions of the objects.\n",
    "\n",
    "For example, let's say that we want to define a class that represents dogs. Then its attibutes could be: its name, its age, its weight, its color, etc... and its methods could be: to bark, to run, to bathe, etc...\n",
    "\n",
    "Once we defined a class (i.e. the blueprint with its corresponding attributes and methods), we can create actual objects (that we call **instances**) from this \"blueprint\".\n",
    "\n",
    "You are not required to know how to define classes for this course, but we believe that some OOP notions will help you better understand what you are actually doing when you use this course's required modules, like `scickit-learn` and `pandas`, that are designed around this paradigm."
   ]
  },
  {
   "cell_type": "markdown",
   "metadata": {},
   "source": [
    "For example, we could create the class dog as follows:"
   ]
  },
  {
   "cell_type": "code",
   "execution_count": null,
   "metadata": {
    "ExecuteTime": {
     "end_time": "2022-02-23T16:30:13.635843Z",
     "start_time": "2022-02-23T16:30:13.629860Z"
    }
   },
   "outputs": [],
   "source": [
    "# ( This cell is a bit more advanced, you might skip the details as long as you understand the main idea )\n",
    "class Dog:\n",
    "    def __init__(self, name, age):\n",
    "        #This method is called to initialize the instance when created from the class\n",
    "        #Here we can define the atributes of the class\n",
    "        self.name = name\n",
    "        self.age = age\n",
    "        self.dirty = False\n",
    "    \n",
    "    # Below are the other methods of the class\n",
    "    \n",
    "    def bark(self):\n",
    "        print(self.name, \"says 'Waf, Waf!'\")\n",
    "    \n",
    "    def run(self, nb_meters):\n",
    "        # If the Dog runs more than 100 meters, it gets dirty.\n",
    "        if(nb_meters >= 100):\n",
    "            print(\"I am dirty.\")\n",
    "            self.dirty = True\n",
    "    \n",
    "    def bathe(self):\n",
    "        print(\"I am clean.\")\n",
    "        self.dirty = False\n",
    "    \n",
    "    def get_stick(self):\n",
    "        # The Dog returns a wild stick\n",
    "        return(\"stick\")"
   ]
  },
  {
   "cell_type": "markdown",
   "metadata": {},
   "source": [
    "We can then instantiate a dog from the class (i.e. create a dog from the blueprint):"
   ]
  },
  {
   "cell_type": "code",
   "execution_count": null,
   "metadata": {
    "ExecuteTime": {
     "end_time": "2022-02-23T16:30:14.537933Z",
     "start_time": "2022-02-23T16:30:14.533910Z"
    }
   },
   "outputs": [],
   "source": [
    "dog1 = Dog(name = \"Johnny\", age = 8)"
   ]
  },
  {
   "cell_type": "markdown",
   "metadata": {},
   "source": [
    "Wow, `dog1` is now a `Dog` called Johnny of age 8 which is clean (by default). We can then use its attributes and methods (that might modify some aspects of Johnny). Here are a few examples:"
   ]
  },
  {
   "cell_type": "code",
   "execution_count": null,
   "metadata": {
    "ExecuteTime": {
     "end_time": "2022-02-23T16:30:15.259718Z",
     "start_time": "2022-02-23T16:30:15.249708Z"
    }
   },
   "outputs": [],
   "source": [
    "dog1.name"
   ]
  },
  {
   "cell_type": "code",
   "execution_count": null,
   "metadata": {
    "ExecuteTime": {
     "end_time": "2022-02-23T16:30:15.592125Z",
     "start_time": "2022-02-23T16:30:15.582147Z"
    }
   },
   "outputs": [],
   "source": [
    "dog1.dirty"
   ]
  },
  {
   "cell_type": "code",
   "execution_count": null,
   "metadata": {
    "ExecuteTime": {
     "end_time": "2022-02-23T16:30:15.863609Z",
     "start_time": "2022-02-23T16:30:15.853635Z"
    }
   },
   "outputs": [],
   "source": [
    "dog1.bark()"
   ]
  },
  {
   "cell_type": "code",
   "execution_count": null,
   "metadata": {
    "ExecuteTime": {
     "end_time": "2022-02-23T16:30:16.119375Z",
     "start_time": "2022-02-23T16:30:16.110434Z"
    }
   },
   "outputs": [],
   "source": [
    "dog1.run(nb_meters=3)"
   ]
  },
  {
   "cell_type": "code",
   "execution_count": null,
   "metadata": {
    "ExecuteTime": {
     "end_time": "2022-02-23T16:30:16.343225Z",
     "start_time": "2022-02-23T16:30:16.332275Z"
    }
   },
   "outputs": [],
   "source": [
    "dog1.dirty"
   ]
  },
  {
   "cell_type": "code",
   "execution_count": null,
   "metadata": {
    "ExecuteTime": {
     "end_time": "2022-02-23T16:30:16.567509Z",
     "start_time": "2022-02-23T16:30:16.557534Z"
    }
   },
   "outputs": [],
   "source": [
    "dog1.run(nb_meters=112)"
   ]
  },
  {
   "cell_type": "code",
   "execution_count": null,
   "metadata": {
    "ExecuteTime": {
     "end_time": "2022-02-23T16:30:16.794845Z",
     "start_time": "2022-02-23T16:30:16.781837Z"
    }
   },
   "outputs": [],
   "source": [
    "dog1.dirty"
   ]
  },
  {
   "cell_type": "code",
   "execution_count": null,
   "metadata": {
    "ExecuteTime": {
     "end_time": "2022-02-23T16:30:16.993823Z",
     "start_time": "2022-02-23T16:30:16.989804Z"
    }
   },
   "outputs": [],
   "source": [
    "dog1.bathe()"
   ]
  },
  {
   "cell_type": "code",
   "execution_count": null,
   "metadata": {
    "ExecuteTime": {
     "end_time": "2022-02-23T16:30:17.220406Z",
     "start_time": "2022-02-23T16:30:17.215415Z"
    }
   },
   "outputs": [],
   "source": [
    "dog1.dirty"
   ]
  },
  {
   "cell_type": "code",
   "execution_count": null,
   "metadata": {
    "ExecuteTime": {
     "end_time": "2022-02-23T16:30:17.448605Z",
     "start_time": "2022-02-23T16:30:17.437634Z"
    }
   },
   "outputs": [],
   "source": [
    "surprise = dog1.get_stick() #Johnny got you a surprise\n",
    "surprise"
   ]
  },
  {
   "cell_type": "code",
   "execution_count": null,
   "metadata": {
    "ExecuteTime": {
     "end_time": "2022-02-23T16:30:17.795030Z",
     "start_time": "2022-02-23T16:30:17.791045Z"
    }
   },
   "outputs": [],
   "source": [
    "dog1.name = \"Jean-Claude\" #dog1 changes its name\n",
    "\n",
    "#(defining a method change_name() would be cleaner than modifying the attribute directly like that)"
   ]
  },
  {
   "cell_type": "code",
   "execution_count": null,
   "metadata": {
    "ExecuteTime": {
     "end_time": "2022-02-23T16:30:18.060042Z",
     "start_time": "2022-02-23T16:30:18.051059Z"
    }
   },
   "outputs": [],
   "source": [
    "dog1.name"
   ]
  },
  {
   "cell_type": "markdown",
   "metadata": {},
   "source": [
    "The example above is maybe simpler in comparison, but you are conceptually doing the same things when you deal with `pandas` or `sklearn`, as `DataFrame` and any machine learning models are defined as classes, that you use instances of, and call methods from, with the same syntax as above.\n",
    "\n",
    "You can now read again the notebook `Introduction_to_python_modules.ipynb`, where you should be able to understand more easily what the syntax actually means in terms of attributes, methods classes and instances, especially for the `pandas` and `sklearn` parts.\n",
    "\n",
    "Note that, in `numpy` and `pandas` for example, some methods aiming at changing the data or data structure of a class instance (an array or  DataFrame, respectively) are not \"*in place*\". This means that the methods return the modified object (e.g. `reshaped_array = some_np_array.reshape(2,3)`) instead of modifying the instance itself (as in `dog1.bathe()` above). This behaviour can be controlled in some `pandas` methods with the `inplace = True/False` argument (e.g `df.drop(\"row_name\", inplace=True)` actually removes a row from `df`, whereas `df2 = df.drop(\"row_name\")` returns `df` without the specified row into `df2`)."
   ]
  }
 ],
 "metadata": {
  "kernelspec": {
   "display_name": "Python 3",
   "language": "python",
   "name": "python3"
  },
  "language_info": {
   "codemirror_mode": {
    "name": "ipython",
    "version": 3
   },
   "file_extension": ".py",
   "mimetype": "text/x-python",
   "name": "python",
   "nbconvert_exporter": "python",
   "pygments_lexer": "ipython3",
   "version": "3.10.6"
  },
  "latex_envs": {
   "LaTeX_envs_menu_present": true,
   "autoclose": false,
   "autocomplete": true,
   "bibliofile": "biblio.bib",
   "cite_by": "apalike",
   "current_citInitial": 1,
   "eqLabelWithNumbers": true,
   "eqNumInitial": 1,
   "hotkeys": {
    "equation": "Ctrl-E",
    "itemize": "Ctrl-I"
   },
   "labels_anchors": false,
   "latex_user_defs": false,
   "report_style_numbering": false,
   "user_envs_cfg": false
  },
  "toc": {
   "base_numbering": 1,
   "nav_menu": {
    "height": "375px",
    "width": "308px"
   },
   "number_sections": true,
   "sideBar": true,
   "skip_h1_title": true,
   "title_cell": "Table of Contents",
   "title_sidebar": "Contents",
   "toc_cell": false,
   "toc_position": {
    "height": "calc(100% - 180px)",
    "left": "10px",
    "top": "150px",
    "width": "209px"
   },
   "toc_section_display": true,
   "toc_window_display": true
  },
  "varInspector": {
   "cols": {
    "lenName": 16,
    "lenType": 16,
    "lenVar": 40
   },
   "kernels_config": {
    "python": {
     "delete_cmd_postfix": "",
     "delete_cmd_prefix": "del ",
     "library": "var_list.py",
     "varRefreshCmd": "print(var_dic_list())"
    },
    "r": {
     "delete_cmd_postfix": ") ",
     "delete_cmd_prefix": "rm(",
     "library": "var_list.r",
     "varRefreshCmd": "cat(var_dic_list()) "
    }
   },
   "types_to_exclude": [
    "module",
    "function",
    "builtin_function_or_method",
    "instance",
    "_Feature"
   ],
   "window_display": false
  },
  "vscode": {
   "interpreter": {
    "hash": "57c3bdca5a68245cc50b723d4c81bd24b2e1aa8df4f8df0134d90b967dbed3e1"
   }
  }
 },
 "nbformat": 4,
 "nbformat_minor": 4
}
